{
 "cells": [
  {
   "cell_type": "code",
   "execution_count": 1,
   "metadata": {},
   "outputs": [],
   "source": [
    "import numpy as np\n",
    "import pandas as pd\n",
    "from openpyxl import load_workbook"
   ]
  },
  {
   "cell_type": "code",
   "execution_count": 3,
   "metadata": {},
   "outputs": [
    {
     "name": "stdout",
     "output_type": "stream",
     "text": [
      "immetterte il numero mese [es. 1 per Gennaio]>7\n"
     ]
    }
   ],
   "source": [
    "# 1) devi prima estrarre manualmenete tuutt i files dall'archivio 7z\n",
    "# 2) poi cambiare in questo codice il percorso del file estretti e il loro nome\n",
    "df_cpu=pd.read_csv('C:\\\\Users\\\\ccarbon\\\\OneDrive - Vodafone Group\\\\JOBFolder\\\\CSCF_Dashboard\\\\UK\\\\Jul21\\\\Jul21_UK_KPI CPU (raw).csv')\n",
    "df_bhca=pd.read_csv('C:\\\\Users\\\\ccarbon\\\\OneDrive - Vodafone Group\\\\JOBFolder\\\\CSCF_Dashboard\\\\UK\\\\Jul21\\\\Jul21_UK_KPI BHCA (raw).csv')\n",
    "df_reg=pd.read_csv('C:\\\\Users\\\\ccarbon\\\\OneDrive - Vodafone Group\\\\JOBFolder\\\\CSCF_Dashboard\\\\UK\\\\Jul21\\\\Jul21_UK_CSCF Sess+Reg raw (1 month).csv')\n",
    "mese=input('immetterte il numero mese [es. 1 per Gennaio]>')"
   ]
  },
  {
   "cell_type": "code",
   "execution_count": 4,
   "metadata": {},
   "outputs": [
    {
     "data": {
      "text/html": [
       "<div>\n",
       "<style scoped>\n",
       "    .dataframe tbody tr th:only-of-type {\n",
       "        vertical-align: middle;\n",
       "    }\n",
       "\n",
       "    .dataframe tbody tr th {\n",
       "        vertical-align: top;\n",
       "    }\n",
       "\n",
       "    .dataframe thead th {\n",
       "        text-align: right;\n",
       "    }\n",
       "</style>\n",
       "<table border=\"1\" class=\"dataframe\">\n",
       "  <thead>\n",
       "    <tr style=\"text-align: right;\">\n",
       "      <th></th>\n",
       "      <th>date</th>\n",
       "      <th>hour</th>\n",
       "      <th>CSCF</th>\n",
       "      <th>Avg. CPULoad.Total</th>\n",
       "      <th>month</th>\n",
       "    </tr>\n",
       "  </thead>\n",
       "  <tbody>\n",
       "    <tr>\n",
       "      <th>24</th>\n",
       "      <td>31/7/2021</td>\n",
       "      <td>23</td>\n",
       "      <td>CSCFMS03</td>\n",
       "      <td>8.320312</td>\n",
       "      <td>7</td>\n",
       "    </tr>\n",
       "    <tr>\n",
       "      <th>25</th>\n",
       "      <td>31/7/2021</td>\n",
       "      <td>22</td>\n",
       "      <td>CSCFMS03</td>\n",
       "      <td>9.911458</td>\n",
       "      <td>7</td>\n",
       "    </tr>\n",
       "    <tr>\n",
       "      <th>26</th>\n",
       "      <td>31/7/2021</td>\n",
       "      <td>21</td>\n",
       "      <td>CSCFMS03</td>\n",
       "      <td>10.973958</td>\n",
       "      <td>7</td>\n",
       "    </tr>\n",
       "  </tbody>\n",
       "</table>\n",
       "</div>"
      ],
      "text/plain": [
       "         date hour      CSCF  Avg. CPULoad.Total month\n",
       "24  31/7/2021   23  CSCFMS03            8.320312     7\n",
       "25  31/7/2021   22  CSCFMS03            9.911458     7\n",
       "26  31/7/2021   21  CSCFMS03           10.973958     7"
      ]
     },
     "execution_count": 4,
     "metadata": {},
     "output_type": "execute_result"
    }
   ],
   "source": [
    "#elaborazione per df_cpu\n",
    "day=df_cpu['Hour of DateTime'].str.split(\" \").str.get(0)\n",
    "month=df_cpu['Hour of DateTime'].str.split(\" \").str.get(1)\n",
    "year=df_cpu['Hour of DateTime'].str.split(\" \").str.get(2)\n",
    "df_cpu['hour']=df_cpu['Hour of DateTime'].str.split(\" \").str.get(3)\n",
    "d = {'January':'1', 'February':'2', 'March':'3', 'April':'4', 'May':'5', 'June':'6', 'July':'7','August':'8','September':'9','October':'10','November':'11','December':'12'}\n",
    "month = month.map(d)\n",
    "df_cpu['month']=month\n",
    "df_cpu['date']=day.str.cat(month, sep='/').str.cat(year, sep='/')\n",
    "df_cpu=df_cpu[['date', 'hour','CSCF', 'Avg. CPULoad.Total', 'month']]\n",
    "filter1=df_cpu['month'] == mese\n",
    "filtered_cpu=df_cpu[(filter1)]\n",
    "filtered_cpu.head(3)\n"
   ]
  },
  {
   "cell_type": "code",
   "execution_count": 5,
   "metadata": {},
   "outputs": [
    {
     "data": {
      "text/html": [
       "<div>\n",
       "<style scoped>\n",
       "    .dataframe tbody tr th:only-of-type {\n",
       "        vertical-align: middle;\n",
       "    }\n",
       "\n",
       "    .dataframe tbody tr th {\n",
       "        vertical-align: top;\n",
       "    }\n",
       "\n",
       "    .dataframe thead th {\n",
       "        text-align: right;\n",
       "    }\n",
       "</style>\n",
       "<table border=\"1\" class=\"dataframe\">\n",
       "  <thead>\n",
       "    <tr style=\"text-align: right;\">\n",
       "      <th></th>\n",
       "      <th></th>\n",
       "      <th></th>\n",
       "      <th>bhca</th>\n",
       "    </tr>\n",
       "    <tr>\n",
       "      <th>date</th>\n",
       "      <th>hour</th>\n",
       "      <th>CSCF</th>\n",
       "      <th></th>\n",
       "    </tr>\n",
       "  </thead>\n",
       "  <tbody>\n",
       "    <tr>\n",
       "      <th rowspan=\"3\" valign=\"top\">1/7/2021</th>\n",
       "      <th rowspan=\"3\" valign=\"top\">00</th>\n",
       "      <th>CSCFBE02</th>\n",
       "      <td>13548.0</td>\n",
       "    </tr>\n",
       "    <tr>\n",
       "      <th>CSCFEH01</th>\n",
       "      <td>45097.0</td>\n",
       "    </tr>\n",
       "    <tr>\n",
       "      <th>CSCFEH02</th>\n",
       "      <td>45396.0</td>\n",
       "    </tr>\n",
       "  </tbody>\n",
       "</table>\n",
       "</div>"
      ],
      "text/plain": [
       "                           bhca\n",
       "date     hour CSCF             \n",
       "1/7/2021 00   CSCFBE02  13548.0\n",
       "              CSCFEH01  45097.0\n",
       "              CSCFEH02  45396.0"
      ]
     },
     "execution_count": 5,
     "metadata": {},
     "output_type": "execute_result"
    }
   ],
   "source": [
    "#elaborazione per df_bhca\n",
    "day=df_bhca['Hour of DateTime'].str.split(\" \").str.get(0)\n",
    "month=df_bhca['Hour of DateTime'].str.split(\" \").str.get(1)\n",
    "year=df_bhca['Hour of DateTime'].str.split(\" \").str.get(2)\n",
    "df_bhca['hour']=df_bhca['Hour of DateTime'].str.split(\" \").str.get(3)\n",
    "d = {'January':'1', 'February':'2', 'March':'3', 'April':'4', 'May':'5', 'June':'6', 'July':'7','August':'8','September':'9','October':'10','November':'11','December':'12'}\n",
    "month = month.map(d)\n",
    "df_bhca['month']=month\n",
    "df_bhca['date']=day.str.cat(month, sep='/').str.cat(year, sep='/')\n",
    "df_bhca=df_bhca[['date', 'hour','CSCF', 'Measure Names', 'Measure Values', 'month']]\n",
    "filter1=df_bhca['month'] == mese\n",
    "filtered_bhca=df_bhca[(filter1)]\n",
    "filtered_bhca=filtered_bhca.groupby(['date', 'hour','CSCF']).agg({'Measure Values':'sum'})\n",
    "filtered_bhca.rename(columns={'Measure Values':'bhca'}, inplace=True)\n",
    "filtered_bhca.head(3)"
   ]
  },
  {
   "cell_type": "code",
   "execution_count": 6,
   "metadata": {},
   "outputs": [
    {
     "data": {
      "text/html": [
       "<div>\n",
       "<style scoped>\n",
       "    .dataframe tbody tr th:only-of-type {\n",
       "        vertical-align: middle;\n",
       "    }\n",
       "\n",
       "    .dataframe tbody tr th {\n",
       "        vertical-align: top;\n",
       "    }\n",
       "\n",
       "    .dataframe thead th {\n",
       "        text-align: right;\n",
       "    }\n",
       "</style>\n",
       "<table border=\"1\" class=\"dataframe\">\n",
       "  <thead>\n",
       "    <tr style=\"text-align: right;\">\n",
       "      <th></th>\n",
       "      <th></th>\n",
       "      <th></th>\n",
       "      <th>Reg</th>\n",
       "    </tr>\n",
       "    <tr>\n",
       "      <th>date</th>\n",
       "      <th>hour</th>\n",
       "      <th>CSCF</th>\n",
       "      <th></th>\n",
       "    </tr>\n",
       "  </thead>\n",
       "  <tbody>\n",
       "    <tr>\n",
       "      <th rowspan=\"3\" valign=\"top\">1/7/2021</th>\n",
       "      <th rowspan=\"3\" valign=\"top\">00</th>\n",
       "      <th>CSCFBE02</th>\n",
       "      <td>205957.0</td>\n",
       "    </tr>\n",
       "    <tr>\n",
       "      <th>CSCFEH01</th>\n",
       "      <td>1177819.0</td>\n",
       "    </tr>\n",
       "    <tr>\n",
       "      <th>CSCFEH02</th>\n",
       "      <td>1178592.0</td>\n",
       "    </tr>\n",
       "  </tbody>\n",
       "</table>\n",
       "</div>"
      ],
      "text/plain": [
       "                              Reg\n",
       "date     hour CSCF               \n",
       "1/7/2021 00   CSCFBE02   205957.0\n",
       "              CSCFEH01  1177819.0\n",
       "              CSCFEH02  1178592.0"
      ]
     },
     "execution_count": 6,
     "metadata": {},
     "output_type": "execute_result"
    }
   ],
   "source": [
    "#elaborazione per df_reg\n",
    "day=df_reg['Minute of DateTime'].str.split(\" \").str.get(0)\n",
    "month=df_reg['Minute of DateTime'].str.split(\" \").str.get(1)\n",
    "year=df_reg['Minute of DateTime'].str.split(\" \").str.get(2)\n",
    "hh=df_reg['Minute of DateTime'].str.split(\" \").str.get(3)\n",
    "df_reg['hour']=hh.str.split(\":\").str.get(0)\n",
    "d = {'January':'1', 'February':'2', 'March':'3', 'April':'4', 'May':'5', 'June':'6', 'July':'7','August':'8','September':'9','October':'10','November':'11','December':'12'}\n",
    "month = month.map(d)\n",
    "df_reg['month']=month\n",
    "df_reg['date']=day.str.cat(month, sep='/').str.cat(year, sep='/')\n",
    "df_reg=df_reg[['date', 'hour','CSCF', 'Measure Names', 'Measure Values', 'month']]\n",
    "filter1=df_reg['month'] == mese\n",
    "filter2=df_reg['Measure Names'] == 'cscfConcurrentRegisteredUserProfiles'\n",
    "filtered_reg=df_reg[(filter1)&(filter2)]\n",
    "filtered_reg=filtered_reg.groupby(['date', 'hour','CSCF']).agg({'Measure Values':'max'})\n",
    "filtered_reg.rename(columns={'Measure Values':'Reg'}, inplace=True)\n",
    "filtered_reg.head(3)"
   ]
  },
  {
   "cell_type": "code",
   "execution_count": 7,
   "metadata": {},
   "outputs": [
    {
     "data": {
      "text/html": [
       "<div>\n",
       "<style scoped>\n",
       "    .dataframe tbody tr th:only-of-type {\n",
       "        vertical-align: middle;\n",
       "    }\n",
       "\n",
       "    .dataframe tbody tr th {\n",
       "        vertical-align: top;\n",
       "    }\n",
       "\n",
       "    .dataframe thead th {\n",
       "        text-align: right;\n",
       "    }\n",
       "</style>\n",
       "<table border=\"1\" class=\"dataframe\">\n",
       "  <thead>\n",
       "    <tr style=\"text-align: right;\">\n",
       "      <th></th>\n",
       "      <th>date</th>\n",
       "      <th>hour</th>\n",
       "      <th>CSCF</th>\n",
       "      <th>Reg</th>\n",
       "      <th>bhca</th>\n",
       "      <th>Avg. CPULoad.Total</th>\n",
       "      <th>month</th>\n",
       "      <th>day</th>\n",
       "    </tr>\n",
       "  </thead>\n",
       "  <tbody>\n",
       "    <tr>\n",
       "      <th>0</th>\n",
       "      <td>1/7/2021</td>\n",
       "      <td>00</td>\n",
       "      <td>CSCFBE02</td>\n",
       "      <td>205957.0</td>\n",
       "      <td>13548.0</td>\n",
       "      <td>2.695312</td>\n",
       "      <td>7-2021</td>\n",
       "      <td>2021-07-01</td>\n",
       "    </tr>\n",
       "    <tr>\n",
       "      <th>1</th>\n",
       "      <td>1/7/2021</td>\n",
       "      <td>00</td>\n",
       "      <td>CSCFEH01</td>\n",
       "      <td>1177819.0</td>\n",
       "      <td>45097.0</td>\n",
       "      <td>6.236979</td>\n",
       "      <td>7-2021</td>\n",
       "      <td>2021-07-01</td>\n",
       "    </tr>\n",
       "    <tr>\n",
       "      <th>2</th>\n",
       "      <td>1/7/2021</td>\n",
       "      <td>00</td>\n",
       "      <td>CSCFEH02</td>\n",
       "      <td>1178592.0</td>\n",
       "      <td>45396.0</td>\n",
       "      <td>6.010417</td>\n",
       "      <td>7-2021</td>\n",
       "      <td>2021-07-01</td>\n",
       "    </tr>\n",
       "  </tbody>\n",
       "</table>\n",
       "</div>"
      ],
      "text/plain": [
       "       date hour      CSCF        Reg     bhca  Avg. CPULoad.Total   month  \\\n",
       "0  1/7/2021   00  CSCFBE02   205957.0  13548.0            2.695312  7-2021   \n",
       "1  1/7/2021   00  CSCFEH01  1177819.0  45097.0            6.236979  7-2021   \n",
       "2  1/7/2021   00  CSCFEH02  1178592.0  45396.0            6.010417  7-2021   \n",
       "\n",
       "         day  \n",
       "0 2021-07-01  \n",
       "1 2021-07-01  \n",
       "2 2021-07-01  "
      ]
     },
     "execution_count": 7,
     "metadata": {},
     "output_type": "execute_result"
    }
   ],
   "source": [
    "merged_temp=filtered_reg.merge(filtered_bhca, on=['date', 'hour', 'CSCF'])\n",
    "merged=merged_temp.merge(filtered_cpu, on=['date', 'hour', 'CSCF'])\n",
    "merged['month']=merged['month']+'-'+year\n",
    "merged['day'] = pd.to_datetime(merged['date'], format='%d/%m/%Y')\n",
    "merged.head(3)"
   ]
  },
  {
   "cell_type": "code",
   "execution_count": null,
   "metadata": {},
   "outputs": [],
   "source": [
    "#scrivo in un file ex-novo\n",
    "# merged.to_excel('C:\\\\Users\\\\ccarbon\\\\OneDrive - Vodafone Group\\\\JOBFolder\\\\CSCF_Dashboard\\\\UK\\\\UK_CSCF_Forecast.xlsx', index=False)"
   ]
  },
  {
   "cell_type": "code",
   "execution_count": 8,
   "metadata": {},
   "outputs": [],
   "source": [
    "#append in un file già esistente\n",
    "\n",
    "filexlsx='C:\\\\Users\\\\ccarbon\\\\OneDrive - Vodafone Group\\\\JOBFolder\\\\CSCF_Dashboard\\\\UK\\\\UK_Forecast\\\\UK_CSCF_Forecast_Mar21-.xlsx'\n",
    "writer = pd.ExcelWriter(filexlsx, engine='openpyxl')\n",
    "# try to open an existing workbook\n",
    "writer.book = load_workbook(filexlsx)\n",
    "# copy existing sheets\n",
    "writer.sheets = dict((ws.title, ws) for ws in writer.book.worksheets)\n",
    "# read existing file\n",
    "reader = pd.read_excel(filexlsx)\n",
    "# write out the new sheet\n",
    "merged.to_excel(writer,index=False,header=False,startrow=len(reader)+1)\n",
    "writer.close()"
   ]
  }
 ],
 "metadata": {
  "kernelspec": {
   "display_name": "Python 3",
   "language": "python",
   "name": "python3"
  },
  "language_info": {
   "codemirror_mode": {
    "name": "ipython",
    "version": 3
   },
   "file_extension": ".py",
   "mimetype": "text/x-python",
   "name": "python",
   "nbconvert_exporter": "python",
   "pygments_lexer": "ipython3",
   "version": "3.6.5"
  }
 },
 "nbformat": 4,
 "nbformat_minor": 2
}
